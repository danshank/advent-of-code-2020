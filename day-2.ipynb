{
 "cells": [
  {
   "cell_type": "code",
   "execution_count": 5,
   "metadata": {},
   "outputs": [
    {
     "name": "stdout",
     "output_type": "stream",
     "text": [
      "434\n"
     ]
    }
   ],
   "source": [
    "import re\n",
    "\n",
    "lineFormat = r\"(\\d+)-(\\d+) (\\w): (\\w+)\"\n",
    "file = open(\"day-2-input\", \"r\")\n",
    "\n",
    "validPws = 0\n",
    "\n",
    "for line in file:\n",
    "    m = re.match(lineFormat, line)\n",
    "    \n",
    "    low = int(m.group(1))\n",
    "    high = int(m.group(2))\n",
    "    req = m.group(3)\n",
    "    pw = m.group(4)\n",
    "    \n",
    "    count = 0\n",
    "\n",
    "    for char in pw:\n",
    "        count = count + 1 if char == req else count\n",
    "        \n",
    "    validPws = validPws + 1 if count >= low and count <= high else validPws\n",
    "\n",
    "print(validPws)    \n",
    "\n",
    "file.close()\n"
   ]
  },
  {
   "cell_type": "code",
   "execution_count": 15,
   "metadata": {},
   "outputs": [
    {
     "name": "stdout",
     "output_type": "stream",
     "text": [
      "509\n"
     ]
    }
   ],
   "source": [
    "import re\n",
    "\n",
    "lineFormat = r\"(\\d+)-(\\d+) (\\w): (\\w+)\"\n",
    "file = open(\"day-2-input\", \"r\")\n",
    "\n",
    "validPws = 0\n",
    "\n",
    "for line in file:\n",
    "    m = re.match(lineFormat, line)\n",
    "    \n",
    "    pos_1 = int(m.group(1))\n",
    "    pos_2 = int(m.group(2))\n",
    "    req = m.group(3)\n",
    "    pw = m.group(4)\n",
    "    \n",
    "    valid_pos_1 = False\n",
    "    try:\n",
    "        valid_pos_1 = pw[pos_1 - 1] == req \n",
    "    except:\n",
    "        pass\n",
    "    valid_pos_2 = False\n",
    "    try:\n",
    "        valid_pos_2 = pw[pos_2 - 1] == req\n",
    "    except:\n",
    "        pass\n",
    "            \n",
    "    validPws = validPws + 1 if valid_pos_1 ^ valid_pos_2 else validPws\n",
    "\n",
    "print(validPws)    \n",
    "\n",
    "file.close()\n"
   ]
  },
  {
   "cell_type": "code",
   "execution_count": null,
   "metadata": {},
   "outputs": [],
   "source": []
  }
 ],
 "metadata": {
  "kernelspec": {
   "display_name": "Python 3",
   "language": "python",
   "name": "python3"
  },
  "language_info": {
   "codemirror_mode": {
    "name": "ipython",
    "version": 3
   },
   "file_extension": ".py",
   "mimetype": "text/x-python",
   "name": "python",
   "nbconvert_exporter": "python",
   "pygments_lexer": "ipython3",
   "version": "3.7.4"
  }
 },
 "nbformat": 4,
 "nbformat_minor": 2
}
