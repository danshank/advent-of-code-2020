{
 "cells": [
  {
   "cell_type": "code",
   "execution_count": 28,
   "metadata": {},
   "outputs": [
    {
     "name": "stdout",
     "output_type": "stream",
     "text": [
      "222\n"
     ]
    }
   ],
   "source": [
    "import re\n",
    "\n",
    "file = open(\"day-4-input\", \"r\")\n",
    "lines = file.readlines()\n",
    "\n",
    "requiredSet = set()\n",
    "requiredSet.add(\"byr\")\n",
    "requiredSet.add(\"iyr\")\n",
    "requiredSet.add(\"eyr\")\n",
    "requiredSet.add(\"hgt\")\n",
    "requiredSet.add(\"hcl\")\n",
    "requiredSet.add(\"ecl\")\n",
    "requiredSet.add(\"pid\")\n",
    "\n",
    "passportFields = set()\n",
    "\n",
    "validPassports = 0\n",
    "\n",
    "for line in lines:\n",
    "    if re.match('\\r?\\n', line):\n",
    "        #print(f\"{requiredSet&passportFields}\")\n",
    "        #print(f\"{requiredSet&passportFields == requiredSet}\")\n",
    "        if requiredSet&passportFields == requiredSet:\n",
    "            validPassports = validPassports + 1\n",
    "        passportFields = set()\n",
    "        #print(f\"----------------\\n\\n\")\n",
    "    else:\n",
    "        fields = line.split(' ')\n",
    "        for field in fields:\n",
    "            matches = re.match(\"(\\w+):\\S+\", field)\n",
    "            passportFields.add(matches.group(1))\n",
    "            #print(f\"{matches.group(1)}\")\n",
    "\n",
    "if requiredSet&passportFields == requiredSet:\n",
    "    validPassports = validPassports + 1\n",
    "\n",
    "print(validPassports)\n",
    "        \n",
    "file.close()"
   ]
  },
  {
   "cell_type": "code",
   "execution_count": null,
   "metadata": {},
   "outputs": [],
   "source": [
    "import re\n",
    "\n",
    "file = open(\"day-4-input\", \"r\")\n",
    "lines = file.readlines()\n",
    "\n",
    "requiredSet = set()\n",
    "requiredSet.add(\"byr\")\n",
    "requiredSet.add(\"iyr\")\n",
    "requiredSet.add(\"eyr\")\n",
    "requiredSet.add(\"hgt\")\n",
    "requiredSet.add(\"hcl\")\n",
    "requiredSet.add(\"ecl\")\n",
    "requiredSet.add(\"pid\")\n",
    "\n",
    "passportFields = set()\n",
    "\n",
    "validPassports = 0\n",
    "\n",
    "def fieldIsValid(fieldType, fieldValue):\n",
    "    if fieldType = \"byr\":\n",
    "        \n",
    "\n",
    "for line in lines:\n",
    "    if re.match('\\r?\\n', line):\n",
    "        #print(f\"{requiredSet&passportFields}\")\n",
    "        #print(f\"{requiredSet&passportFields == requiredSet}\")\n",
    "        if requiredSet&passportFields == requiredSet:\n",
    "            validPassports = validPassports + 1\n",
    "        passportFields = set()\n",
    "        #print(f\"----------------\\n\\n\")\n",
    "    else:\n",
    "        fields = line.split(' ')\n",
    "        for field in fields:\n",
    "            matches = re.match(\"(\\w+):(\\S+)\", field)\n",
    "            fieldType = matches.group(1)\n",
    "            fieldValue = matches.group(2)\n",
    "            if fieldIsValid(fieldType, fieldValue):\n",
    "                passportFields.add(matches.group(1))\n",
    "            #print(f\"{matches.group(1)}\")\n",
    "\n",
    "if requiredSet&passportFields == requiredSet:\n",
    "    validPassports = validPassports + 1\n",
    "\n",
    "print(validPassports)\n",
    "        \n",
    "file.close()"
   ]
  }
 ],
 "metadata": {
  "kernelspec": {
   "display_name": "Python 3",
   "language": "python",
   "name": "python3"
  },
  "language_info": {
   "codemirror_mode": {
    "name": "ipython",
    "version": 3
   },
   "file_extension": ".py",
   "mimetype": "text/x-python",
   "name": "python",
   "nbconvert_exporter": "python",
   "pygments_lexer": "ipython3",
   "version": "3.7.4"
  }
 },
 "nbformat": 4,
 "nbformat_minor": 2
}
