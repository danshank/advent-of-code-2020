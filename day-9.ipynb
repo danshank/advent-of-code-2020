{
 "cells": [
  {
   "cell_type": "code",
   "execution_count": 3,
   "metadata": {},
   "outputs": [
    {
     "name": "stdout",
     "output_type": "stream",
     "text": [
      "20874512\n"
     ]
    }
   ],
   "source": [
    "file = open(\"day-9-input\", \"r\")\n",
    "lines = file.read().splitlines()\n",
    "\n",
    "entries = set()\n",
    "done = True\n",
    "\n",
    "for i in range(0, 25):\n",
    "    entries.add(int(lines[i]))\n",
    "    \n",
    "for i in range(25, len(lines)):\n",
    "    x = int(lines[i])\n",
    "    for y in entries:\n",
    "        if x - y in entries:\n",
    "            done = False\n",
    "    if done:\n",
    "        print(x)\n",
    "        break\n",
    "    else:\n",
    "        entries.remove(int(lines[i - 25]))\n",
    "        entries.add(x)\n",
    "        done = True\n",
    "    "
   ]
  },
  {
   "cell_type": "code",
   "execution_count": 5,
   "metadata": {},
   "outputs": [
    {
     "name": "stdout",
     "output_type": "stream",
     "text": [
      "3012420\n"
     ]
    }
   ],
   "source": [
    "start = 0\n",
    "end = 1\n",
    "total = 0\n",
    "target = 20874512\n",
    "\n",
    "file = open(\"day-9-input\", \"r\")\n",
    "lines = file.read().splitlines()\n",
    "\n",
    "total = int(lines[start]) + int(lines[end])\n",
    "\n",
    "while end < len(lines) and not total == target:\n",
    "    if total < target:\n",
    "        end = end + 1\n",
    "        total = total + int(lines[end])\n",
    "    if total > target:\n",
    "        total = total - int(lines[start])\n",
    "        start = start + 1\n",
    "    if int(lines[end]) == target:\n",
    "        start = end + 1\n",
    "        end = start + 1\n",
    "        total = int(lines[start]) + int(lines[end])\n",
    "\n",
    "        \n",
    "a = int(lines[start])\n",
    "b = a\n",
    "for i in range(start + 1, end + 1):\n",
    "    if int(lines[i]) < a:\n",
    "        a = int(lines[i])\n",
    "    if int(lines[i]) > b:\n",
    "        b = int(lines[i])\n",
    "\n",
    "print(a + b)"
   ]
  },
  {
   "cell_type": "code",
   "execution_count": null,
   "metadata": {},
   "outputs": [],
   "source": []
  }
 ],
 "metadata": {
  "kernelspec": {
   "display_name": "Python 3",
   "language": "python",
   "name": "python3"
  },
  "language_info": {
   "codemirror_mode": {
    "name": "ipython",
    "version": 3
   },
   "file_extension": ".py",
   "mimetype": "text/x-python",
   "name": "python",
   "nbconvert_exporter": "python",
   "pygments_lexer": "ipython3",
   "version": "3.7.4"
  }
 },
 "nbformat": 4,
 "nbformat_minor": 2
}
