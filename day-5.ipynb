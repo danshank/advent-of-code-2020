{
 "cells": [
  {
   "cell_type": "code",
   "execution_count": 6,
   "metadata": {},
   "outputs": [
    {
     "name": "stdout",
     "output_type": "stream",
     "text": [
      "994\n"
     ]
    }
   ],
   "source": [
    "file = open(\"day-5-input\", \"r\")\n",
    "\n",
    "def determineSeatId(ticket):\n",
    "    pos = 7\n",
    "    row = ticket[:pos]\n",
    "    aisle = ticket[pos:]\n",
    "    rowId = 0\n",
    "    aisleId = 0\n",
    "    for char in row:\n",
    "        if char == 'B':\n",
    "            rowId = (rowId << 1) | 1\n",
    "        if char == 'F':\n",
    "            rowId = (rowId << 1) | 0\n",
    "    for char in aisle:\n",
    "        if char == 'R':\n",
    "            aisleId = (aisleId << 1) | 1\n",
    "        if char == 'L':\n",
    "            aisleId = (aisleId << 1) | 0\n",
    "    return rowId * 8 + aisleId\n",
    "\n",
    "maxSeatId = 0\n",
    "\n",
    "for line in file:\n",
    "    seatId = determineSeatId(line)\n",
    "    if maxSeatId < seatId:\n",
    "        maxSeatId = seatId\n",
    "\n",
    "print(maxSeatId)\n",
    "\n",
    "#print(determineSeatId(\"BBFFBBFRLL\"))"
   ]
  },
  {
   "cell_type": "code",
   "execution_count": 7,
   "metadata": {},
   "outputs": [
    {
     "name": "stdout",
     "output_type": "stream",
     "text": [
      "741\n"
     ]
    }
   ],
   "source": [
    "file = open(\"day-5-input\", \"r\")\n",
    "\n",
    "seatIds = set()\n",
    "\n",
    "def determineSeatId(ticket):\n",
    "    pos = 7\n",
    "    row = ticket[:pos]\n",
    "    aisle = ticket[pos:]\n",
    "    rowId = 0\n",
    "    aisleId = 0\n",
    "    for char in row:\n",
    "        if char == 'B':\n",
    "            rowId = (rowId << 1) | 1\n",
    "        if char == 'F':\n",
    "            rowId = (rowId << 1) | 0\n",
    "    for char in aisle:\n",
    "        if char == 'R':\n",
    "            aisleId = (aisleId << 1) | 1\n",
    "        if char == 'L':\n",
    "            aisleId = (aisleId << 1) | 0\n",
    "    return rowId * 8 + aisleId\n",
    "\n",
    "for line in file:\n",
    "    seatIds.add(determineSeatId(line))\n",
    "\n",
    "i = 0\n",
    "while i not in seatIds:\n",
    "    i = i + 1\n",
    "\n",
    "while i in seatIds:\n",
    "    i = i + 1\n",
    "\n",
    "\n",
    "print(i)\n",
    "\n",
    "#print(determineSeatId(\"BBFFBBFRLL\"))"
   ]
  },
  {
   "cell_type": "code",
   "execution_count": null,
   "metadata": {},
   "outputs": [],
   "source": []
  }
 ],
 "metadata": {
  "kernelspec": {
   "display_name": "Python 3",
   "language": "python",
   "name": "python3"
  },
  "language_info": {
   "codemirror_mode": {
    "name": "ipython",
    "version": 3
   },
   "file_extension": ".py",
   "mimetype": "text/x-python",
   "name": "python",
   "nbconvert_exporter": "python",
   "pygments_lexer": "ipython3",
   "version": "3.7.4"
  }
 },
 "nbformat": 4,
 "nbformat_minor": 2
}
