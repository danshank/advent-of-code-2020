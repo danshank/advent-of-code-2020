{
 "cells": [
  {
   "cell_type": "code",
   "execution_count": 5,
   "metadata": {},
   "outputs": [
    {
     "name": "stdout",
     "output_type": "stream",
     "text": [
      "1441.0\n"
     ]
    }
   ],
   "source": [
    "import math\n",
    "import cmath\n",
    "directions = open(\"day-12-input\", \"r\")\n",
    "\n",
    "v = (1 + 0j)\n",
    "x = (0 + 0j)\n",
    "i = (0 + 1j)\n",
    "\n",
    "for step in directions:\n",
    "    direction = step[0]\n",
    "    n = int(step[1:])\n",
    "    if direction == 'N':\n",
    "        x = x + n * (0 + 1j)\n",
    "    if direction == 'S':\n",
    "        x = x + n * (0 - 1j)\n",
    "    if direction == 'E':\n",
    "        x = x + n       \n",
    "    if direction == 'W':\n",
    "        x = x - n\n",
    "    if direction == 'L':\n",
    "        x_r = int(cmath.exp(i * math.radians(n)).real)\n",
    "        y_r = int(cmath.exp(i * math.radians(n)).imag)\n",
    "        rotation = complex(x_r, y_r)\n",
    "        v = v * rotation\n",
    "    if direction == 'R':\n",
    "        x_r = int(cmath.exp(-i * math.radians(n)).real)\n",
    "        y_r = int(cmath.exp(-i * math.radians(n)).imag)\n",
    "        rotation = complex(x_r, y_r)\n",
    "        v = v * rotation\n",
    "    if direction == 'F':\n",
    "        x = x + v * n\n",
    "        \n",
    "print(abs(x.real) + abs(x.imag))"
   ]
  },
  {
   "cell_type": "code",
   "execution_count": 8,
   "metadata": {},
   "outputs": [
    {
     "name": "stdout",
     "output_type": "stream",
     "text": [
      "286.0\n"
     ]
    }
   ],
   "source": [
    "import math\n",
    "import cmath\n",
    "directions = open(\"day-12-input\", \"r\")\n",
    "\n",
    "x = (0 + 0j)\n",
    "w = (10 + 1j)\n",
    "i = (0 + 1j)\n",
    "\n",
    "for step in directions:\n",
    "    direction = step[0]\n",
    "    n = int(step[1:])\n",
    "    if direction == 'N':\n",
    "        w = w + n * (0 + 1j)\n",
    "    if direction == 'S':\n",
    "        w = w + n * (0 - 1j)\n",
    "    if direction == 'E':\n",
    "        w = w + n       \n",
    "    if direction == 'W':\n",
    "        w = w - n\n",
    "    if direction == 'L':\n",
    "        x_r = int(cmath.exp(i * math.radians(n)).real)\n",
    "        y_r = int(cmath.exp(i * math.radians(n)).imag)\n",
    "        rotation = complex(x_r, y_r)\n",
    "        w = x + (w - x) * rotation\n",
    "    if direction == 'R':\n",
    "        x_r = int(cmath.exp(-i * math.radians(n)).real)\n",
    "        y_r = int(cmath.exp(-i * math.radians(n)).imag)\n",
    "        rotation = complex(x_r, y_r)\n",
    "        w = x + (w - x) * rotation\n",
    "    if direction == 'F':\n",
    "        d = w - x\n",
    "        x = x + d * n\n",
    "        w = x + d\n",
    "        \n",
    "print(abs(x.real) + abs(x.imag))"
   ]
  },
  {
   "cell_type": "code",
   "execution_count": null,
   "metadata": {},
   "outputs": [],
   "source": []
  }
 ],
 "metadata": {
  "kernelspec": {
   "display_name": "Python 3",
   "language": "python",
   "name": "python3"
  },
  "language_info": {
   "codemirror_mode": {
    "name": "ipython",
    "version": 3
   },
   "file_extension": ".py",
   "mimetype": "text/x-python",
   "name": "python",
   "nbconvert_exporter": "python",
   "pygments_lexer": "ipython3",
   "version": "3.7.4"
  }
 },
 "nbformat": 4,
 "nbformat_minor": 2
}
