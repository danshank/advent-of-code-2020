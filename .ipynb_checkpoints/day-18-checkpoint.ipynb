{
 "cells": [
  {
   "cell_type": "code",
   "execution_count": null,
   "metadata": {},
   "outputs": [
    {
     "name": "stdout",
     "output_type": "stream",
     "text": [
      "hello\n",
      "4 * 5 + 7 * 2 + 8\n",
      "4 * 5 + 7 * 2 + 8\n"
     ]
    }
   ],
   "source": [
    "file = open(\"day-18-input\", \"r\")\n",
    "data = file.read().splitlines()\n",
    "\n",
    "print(\"hello\")\n",
    "\n",
    "class OperationNode:\n",
    "    def __init__(self, op):\n",
    "        self.op = op\n",
    "        \n",
    "    def evaluate(self):\n",
    "        a = self.left.evaluate()\n",
    "        b = self.right.evaluate()\n",
    "        if self.op == '+':\n",
    "            return a + b\n",
    "        elif self.op == '*':\n",
    "            return a * b\n",
    "        \n",
    "\n",
    "class ValueNode:\n",
    "    def __init__(self, val):\n",
    "        self.val = val\n",
    "    \n",
    "    def evaluate(self):\n",
    "        return int(self.val)\n",
    "    \n",
    "def buildSyntaxTree(stack, currentRootNode, toParse):    \n",
    "    if toParse == '(':\n",
    "        stack.append(currentRootNode)\n",
    "        return None\n",
    "    elif toParse == ')':\n",
    "        nextRoot = stack.pop()\n",
    "        if nextRoot is None:\n",
    "            return currentRootNode\n",
    "        else:\n",
    "            nextRoot.right = currentRootNode\n",
    "            return nextRoot\n",
    "    elif toParse == '+' or toParse == '*':\n",
    "        nextRoot = OperationNode(toParse)\n",
    "        nextRoot.left = currentRootNode\n",
    "        return nextRoot\n",
    "    else:\n",
    "        newNode = ValueNode(toParse)\n",
    "        if currentRootNode is None:\n",
    "            return newNode\n",
    "        else:\n",
    "            currentRootNode.right = newNode\n",
    "            return currentRootNode\n",
    "    \n",
    "    \n",
    "def parseTokens(command):\n",
    "    print(command)\n",
    "    tokens = []\n",
    "    i = 0\n",
    "    while i < len(command):\n",
    "        t = command[i]\n",
    "        if t == '(' or t == ')' or t == '*' or t == '+':\n",
    "            tokens.append(t)\n",
    "            i += 1\n",
    "        elif t == ' ':\n",
    "            i += 1\n",
    "        else:\n",
    "            j = i\n",
    "            while t.isdigit() or j < len(command) - 1:\n",
    "                j += 1\n",
    "                t = command[j]\n",
    "            tokens.append(command[i:j])\n",
    "            i = j\n",
    "    return tokens\n",
    "        \n",
    "def solveEquation(equation):\n",
    "    tokens = parseTokens(equation)\n",
    "    rootNode = None\n",
    "    stack = []\n",
    "    for token in tokens:\n",
    "        rootNode = buildSyntaxTree(stack, rootNode, token)\n",
    "    return rootNode.evaluate()\n",
    "\n",
    "print(data[0])\n",
    "print(parseTokens(data[0]))\n"
   ]
  },
  {
   "cell_type": "code",
   "execution_count": 7,
   "metadata": {},
   "outputs": [
    {
     "name": "stdout",
     "output_type": "stream",
     "text": [
      "1\n",
      "2\n",
      "ll\n",
      "False\n",
      "True\n"
     ]
    }
   ],
   "source": [
    "class A:\n",
    "    def __init__(self, b):\n",
    "        self.b = b\n",
    "        \n",
    "a = A(1)\n",
    "print(a.b)\n",
    "a.c = 2\n",
    "print(a.c)\n",
    "\n",
    "\n",
    "a = \"hello\"\n",
    "\n",
    "print(a[2:4])\n",
    "print('a'.isdigit())\n",
    "print('3'.isdigit())"
   ]
  },
  {
   "cell_type": "code",
   "execution_count": null,
   "metadata": {},
   "outputs": [],
   "source": []
  }
 ],
 "metadata": {
  "kernelspec": {
   "display_name": "Python 3",
   "language": "python",
   "name": "python3"
  },
  "language_info": {
   "codemirror_mode": {
    "name": "ipython",
    "version": 3
   },
   "file_extension": ".py",
   "mimetype": "text/x-python",
   "name": "python",
   "nbconvert_exporter": "python",
   "pygments_lexer": "ipython3",
   "version": "3.7.4"
  }
 },
 "nbformat": 4,
 "nbformat_minor": 2
}
