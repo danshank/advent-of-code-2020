{
 "cells": [
  {
   "cell_type": "code",
   "execution_count": 14,
   "metadata": {},
   "outputs": [
    {
     "ename": "IndentationError",
     "evalue": "expected an indented block (<ipython-input-14-761a8378f726>, line 26)",
     "output_type": "error",
     "traceback": [
      "\u001b[1;36m  File \u001b[1;32m\"<ipython-input-14-761a8378f726>\"\u001b[1;36m, line \u001b[1;32m26\u001b[0m\n\u001b[1;33m    print(f\"a: {a}, b: {b}\")\u001b[0m\n\u001b[1;37m                            ^\u001b[0m\n\u001b[1;31mIndentationError\u001b[0m\u001b[1;31m:\u001b[0m expected an indented block\n"
     ]
    }
   ],
   "source": [
    "file = open(\"day-10-input\", \"r\")\n",
    "lines = file.read().splitlines()\n",
    "\n",
    "for i in range(0, len(lines)):\n",
    "    lines[i] = int(lines[i])\n",
    "    \n",
    "lines = sorted(lines)\n",
    "\n",
    "a = 0\n",
    "b = 1\n",
    "\n",
    "if lines[0] == 1:\n",
    "    a = a + 1\n",
    "if lines[0] == 3:\n",
    "    b = b + 1\n",
    "\n",
    "for i in range(0, len(lines) - 1):\n",
    "    d = lines[i + 1] - lines[i]\n",
    "    if d == 1:\n",
    "        a = a + 1\n",
    "    if d == 3:\n",
    "        b = b + 1\n",
    "\n",
    "print(f\"a: {a}, b: {b}\")\n",
    "print(a * b)"
   ]
  },
  {
   "cell_type": "code",
   "execution_count": null,
   "metadata": {},
   "outputs": [],
   "source": []
  }
 ],
 "metadata": {
  "kernelspec": {
   "display_name": "Python 3",
   "language": "python",
   "name": "python3"
  },
  "language_info": {
   "codemirror_mode": {
    "name": "ipython",
    "version": 3
   },
   "file_extension": ".py",
   "mimetype": "text/x-python",
   "name": "python",
   "nbconvert_exporter": "python",
   "pygments_lexer": "ipython3",
   "version": "3.7.4"
  }
 },
 "nbformat": 4,
 "nbformat_minor": 2
}
