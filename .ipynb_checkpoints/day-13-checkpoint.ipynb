{
 "cells": [
  {
   "cell_type": "code",
   "execution_count": 9,
   "metadata": {},
   "outputs": [
    {
     "name": "stdout",
     "output_type": "stream",
     "text": [
      "5946\n"
     ]
    }
   ],
   "source": [
    "file = open(\"day-13-input\", \"r\")\n",
    "data = file.read().splitlines()\n",
    "\n",
    "start = int(data[0])\n",
    "busData = data[1].split(',')\n",
    "buses = []\n",
    "for bus in busData:\n",
    "    try:\n",
    "        buses.append(int(bus))\n",
    "    except:\n",
    "        pass\n",
    "\n",
    "\n",
    "n = start\n",
    "x = 0\n",
    "noBuses = True\n",
    "while noBuses:\n",
    "    for bus in buses:\n",
    "        if n % bus == 0:\n",
    "            noBuses = False\n",
    "            x = bus\n",
    "            break\n",
    "    n = n + noBuses\n",
    "    \n",
    "print((n - start) * x)\n"
   ]
  },
  {
   "cell_type": "code",
   "execution_count": 33,
   "metadata": {},
   "outputs": [
    {
     "name": "stdout",
     "output_type": "stream",
     "text": [
      "1068781\n"
     ]
    }
   ],
   "source": [
    "file = open(\"day-13-input\", \"r\")\n",
    "data = file.read().splitlines()\n",
    "\n",
    "busData = data[1].split(',')\n",
    "buses = []\n",
    "for i in range(0, len(busData)):\n",
    "    try:\n",
    "        buses.append([int(busData[i]), i])\n",
    "    except:\n",
    "        pass\n",
    "\n",
    "lcm = buses[0][0]\n",
    "r = 0\n",
    "\n",
    "for i in range(1, len(buses)):\n",
    "    p = buses[i][0]\n",
    "    new_lcm = lcm * p\n",
    "    dx = buses[i][1]\n",
    "    for n in range(0, p):\n",
    "        x = n * lcm + r\n",
    "        if (x + dx) % p == 0:\n",
    "            r = x\n",
    "            break\n",
    "    lcm = new_lcm\n",
    "\n",
    "print(r)"
   ]
  },
  {
   "cell_type": "code",
   "execution_count": 32,
   "metadata": {},
   "outputs": [
    {
     "name": "stdout",
     "output_type": "stream",
     "text": [
      "1068781\n"
     ]
    }
   ],
   "source": [
    "file = open(\"day-13-test-input\", \"r\")\n",
    "data = file.read().splitlines()\n",
    "\n",
    "busData = data[1].split(',')\n",
    "buses = []\n",
    "for i in range(0, len(busData)):\n",
    "    try:\n",
    "        buses.append([int(busData[i]), i])\n",
    "    except:\n",
    "        pass\n",
    "\n",
    "k = 5\n",
    "\n",
    "lcm = 1\n",
    "for i in range(0, k):\n",
    "    lcm = lcm * buses[i][0]\n",
    "\n",
    "for n in range(0, lcm):\n",
    "    b = True\n",
    "    for i in range(0, k):\n",
    "        b = b and ((n + buses[i][1]) % buses[i][0] == 0)\n",
    "    if b:\n",
    "        print(n)\n",
    "        break\n"
   ]
  },
  {
   "cell_type": "code",
   "execution_count": 23,
   "metadata": {},
   "outputs": [
    {
     "data": {
      "text/plain": [
       "0"
      ]
     },
     "execution_count": 23,
     "metadata": {},
     "output_type": "execute_result"
    }
   ],
   "source": []
  },
  {
   "cell_type": "code",
   "execution_count": null,
   "metadata": {},
   "outputs": [],
   "source": []
  }
 ],
 "metadata": {
  "kernelspec": {
   "display_name": "Python 3",
   "language": "python",
   "name": "python3"
  },
  "language_info": {
   "codemirror_mode": {
    "name": "ipython",
    "version": 3
   },
   "file_extension": ".py",
   "mimetype": "text/x-python",
   "name": "python",
   "nbconvert_exporter": "python",
   "pygments_lexer": "ipython3",
   "version": "3.7.4"
  }
 },
 "nbformat": 4,
 "nbformat_minor": 2
}
