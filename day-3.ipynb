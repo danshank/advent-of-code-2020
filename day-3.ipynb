{
 "cells": [
  {
   "cell_type": "code",
   "execution_count": 27,
   "metadata": {},
   "outputs": [
    {
     "name": "stdout",
     "output_type": "stream",
     "text": [
      "232\n"
     ]
    }
   ],
   "source": [
    "file = open(\"day-3-input\", \"r\").read().splitlines()\n",
    "\n",
    "def go_down_slope(fall, run, slope):\n",
    "    trees = 0\n",
    "    j = 0\n",
    "    for i in range(0, len(slope), fall):        \n",
    "        line = slope[i]\n",
    "        pos = 2 ** ((j * run) % len(line))\n",
    "        x = 0\n",
    "        for k in range(0, len(line)):\n",
    "            if line[k] == \"#\":\n",
    "                x = x + 2 ** k\n",
    "        if x & pos == pos:\n",
    "            trees = trees + 1\n",
    "        j = j + 1\n",
    "    return trees\n",
    "\n",
    "print(go_down_slope(1, 3, file))\n",
    "\n"
   ]
  },
  {
   "cell_type": "code",
   "execution_count": 30,
   "metadata": {},
   "outputs": [
    {
     "name": "stdout",
     "output_type": "stream",
     "text": [
      "3952291680\n"
     ]
    }
   ],
   "source": [
    "ans = go_down_slope(1, 1, file) * go_down_slope(1, 3, file) * go_down_slope(1, 5, file) * go_down_slope(1, 7, file) * go_down_slope(2, 1, file)\n",
    "\n",
    "print(ans)\n"
   ]
  },
  {
   "cell_type": "code",
   "execution_count": null,
   "metadata": {},
   "outputs": [],
   "source": []
  }
 ],
 "metadata": {
  "kernelspec": {
   "display_name": "Python 3",
   "language": "python",
   "name": "python3"
  },
  "language_info": {
   "codemirror_mode": {
    "name": "ipython",
    "version": 3
   },
   "file_extension": ".py",
   "mimetype": "text/x-python",
   "name": "python",
   "nbconvert_exporter": "python",
   "pygments_lexer": "ipython3",
   "version": "3.7.4"
  }
 },
 "nbformat": 4,
 "nbformat_minor": 2
}
