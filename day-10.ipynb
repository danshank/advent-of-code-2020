{
 "cells": [
  {
   "cell_type": "code",
   "execution_count": 17,
   "metadata": {},
   "outputs": [
    {
     "name": "stdout",
     "output_type": "stream",
     "text": [
      "a: 70, b: 35, c: 0, total adaptors: 104\n",
      "2450\n"
     ]
    }
   ],
   "source": [
    "file = open(\"day-10-input\", \"r\")\n",
    "lines = file.read().splitlines()\n",
    "\n",
    "for i in range(0, len(lines)):\n",
    "    lines[i] = int(lines[i])\n",
    "    \n",
    "lines = sorted(lines)\n",
    "\n",
    "a = 0\n",
    "b = 1\n",
    "c = 0\n",
    "\n",
    "if lines[0] == 1:\n",
    "    a = a + 1\n",
    "if lines[0] == 2:\n",
    "    c = c + 1\n",
    "if lines[0] == 3:\n",
    "    b = b + 1\n",
    "\n",
    "for i in range(0, len(lines) - 1):\n",
    "    d = lines[i + 1] - lines[i]\n",
    "    if d == 1:\n",
    "        a = a + 1\n",
    "    if d == 2:\n",
    "        c = c + 1\n",
    "    if d == 3:\n",
    "        b = b + 1\n",
    "\n",
    "print(f\"a: {a}, b: {b}, c: {c}, total adaptors: {len(lines)}\")\n",
    "print(a * b)"
   ]
  },
  {
   "cell_type": "code",
   "execution_count": 20,
   "metadata": {},
   "outputs": [
    {
     "name": "stdout",
     "output_type": "stream",
     "text": [
      "32396521357312\n"
     ]
    }
   ],
   "source": [
    "file = open(\"day-10-input\", \"r\")\n",
    "lines = file.read().splitlines()\n",
    "\n",
    "for i in range(0, len(lines)):\n",
    "    lines[i] = int(lines[i])\n",
    "    \n",
    "lines = sorted(lines)\n",
    "\n",
    "x = 0\n",
    "y = 1\n",
    "if lines[0] == 1:\n",
    "    x = x + 1\n",
    "\n",
    "for i in range(0, len(lines) - 1):\n",
    "    d = lines[i + 1] - lines[i]\n",
    "    if d == 1:\n",
    "        x = x + 1\n",
    "    if d == 3:\n",
    "        if x == 4:\n",
    "            y = y * 7\n",
    "        if x == 3:\n",
    "            y = y * 4\n",
    "        if x == 2:\n",
    "            y = y * 2\n",
    "        x = 0\n",
    "        \n",
    "print(y)\n"
   ]
  },
  {
   "cell_type": "code",
   "execution_count": null,
   "metadata": {},
   "outputs": [],
   "source": []
  }
 ],
 "metadata": {
  "kernelspec": {
   "display_name": "Python 3",
   "language": "python",
   "name": "python3"
  },
  "language_info": {
   "codemirror_mode": {
    "name": "ipython",
    "version": 3
   },
   "file_extension": ".py",
   "mimetype": "text/x-python",
   "name": "python",
   "nbconvert_exporter": "python",
   "pygments_lexer": "ipython3",
   "version": "3.7.4"
  }
 },
 "nbformat": 4,
 "nbformat_minor": 2
}
