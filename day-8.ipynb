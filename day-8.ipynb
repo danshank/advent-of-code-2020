{
 "cells": [
  {
   "cell_type": "code",
   "execution_count": 8,
   "metadata": {},
   "outputs": [
    {
     "name": "stdout",
     "output_type": "stream",
     "text": [
      "final answer: 1137\n"
     ]
    }
   ],
   "source": [
    "import re\n",
    "\n",
    "file = open(\"day-8-input\", \"r\")\n",
    "instructions = file.read().splitlines()\n",
    "\n",
    "acc = 0\n",
    "head = 0\n",
    "visited = set()\n",
    "while not head in visited:\n",
    "    visited.add(head)\n",
    "    instruction = instructions[head]\n",
    "    matches = re.match(\"(\\w+) ([\\+\\-]\\d+)\", instruction)\n",
    "    command = matches.group(1)\n",
    "    x = int(matches.group(2))\n",
    "    \n",
    "    if command == \"acc\":\n",
    "        acc = acc + x\n",
    "        head = head + 1\n",
    "    if command == \"nop\":\n",
    "        head = head + 1\n",
    "    if command == \"jmp\":\n",
    "        head = head + x\n",
    "        \n",
    "    #print(f\"head is at {head}\")\n",
    "\n",
    "print(f\"final answer: {acc}\")\n",
    "    \n"
   ]
  },
  {
   "cell_type": "code",
   "execution_count": null,
   "metadata": {},
   "outputs": [],
   "source": [
    "import re\n",
    "\n",
    "file = open(\"day-8-input\", \"r\")\n",
    "instructions = file.read().splitlines()\n",
    "\n",
    "head = len(instructions) - 1\n",
    "visited = set()\n",
    "while not head in visited:\n",
    "    visited.add(head)\n",
    "    instruction = instructions[head]\n",
    "    matches = re.match(\"(\\w+) ([\\+\\-]\\d+)\", instruction)\n",
    "    command = matches.group(1)\n",
    "    x = int(matches.group(2))\n",
    "    \n",
    "    if command == \"acc\":\n",
    "        head = head + 1\n",
    "    if command == \"nop\":\n",
    "        head = head + 1\n",
    "    if command == \"jmp\":\n",
    "        head = head + x\n"
   ]
  }
 ],
 "metadata": {
  "kernelspec": {
   "display_name": "Python 3",
   "language": "python",
   "name": "python3"
  },
  "language_info": {
   "codemirror_mode": {
    "name": "ipython",
    "version": 3
   },
   "file_extension": ".py",
   "mimetype": "text/x-python",
   "name": "python",
   "nbconvert_exporter": "python",
   "pygments_lexer": "ipython3",
   "version": "3.7.4"
  }
 },
 "nbformat": 4,
 "nbformat_minor": 2
}
