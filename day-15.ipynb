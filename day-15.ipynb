{
 "cells": [
  {
   "cell_type": "code",
   "execution_count": 24,
   "metadata": {},
   "outputs": [
    {
     "name": "stdout",
     "output_type": "stream",
     "text": [
      "273\n"
     ]
    }
   ],
   "source": [
    "x = [1,12,0,20,8,16]\n",
    "\n",
    "#x = [1,3,2]\n",
    "\n",
    "m = {}\n",
    "\n",
    "for i in range(0, len(x) - 1):\n",
    "    m[x[i]] = i\n",
    "\n",
    "#for i in range(len(x) - 1, 10):\n",
    "for i in range(len(x) - 1, 2021):\n",
    "    if x[i] in m:\n",
    "        y = i - m[x[i]]\n",
    "        x.append(y)\n",
    "        m[x[i]] = i\n",
    "    else:\n",
    "        x.append(0)\n",
    "        m[x[i]] = i\n",
    "        \n",
    "print(x[2019])"
   ]
  },
  {
   "cell_type": "code",
   "execution_count": 26,
   "metadata": {},
   "outputs": [
    {
     "name": "stdout",
     "output_type": "stream",
     "text": [
      "Processed 1000000\n",
      "Processed 2000000\n",
      "Processed 3000000\n",
      "Processed 4000000\n",
      "Processed 5000000\n",
      "Processed 6000000\n",
      "Processed 7000000\n",
      "Processed 8000000\n",
      "Processed 9000000\n",
      "Processed 10000000\n",
      "Processed 11000000\n",
      "Processed 12000000\n",
      "Processed 13000000\n",
      "Processed 14000000\n",
      "Processed 15000000\n",
      "Processed 16000000\n",
      "Processed 17000000\n",
      "Processed 18000000\n",
      "Processed 19000000\n",
      "Processed 20000000\n",
      "Processed 21000000\n",
      "Processed 22000000\n",
      "Processed 23000000\n",
      "Processed 24000000\n",
      "Processed 25000000\n",
      "Processed 26000000\n",
      "Processed 27000000\n",
      "Processed 28000000\n",
      "Processed 29000000\n",
      "47205\n"
     ]
    }
   ],
   "source": [
    "x = [1,12,0,20,8,16]\n",
    "\n",
    "#x = [1,3,2]\n",
    "\n",
    "m = {}\n",
    "\n",
    "for i in range(0, len(x) - 1):\n",
    "    m[x[i]] = i\n",
    "\n",
    "#for i in range(len(x) - 1, 10):\n",
    "for i in range(len(x) - 1, 30000000):\n",
    "    if i % 1000000 == 0:\n",
    "        print(f\"Processed {i}\")\n",
    "    if x[i] in m:\n",
    "        y = i - m[x[i]]\n",
    "        x.append(y)\n",
    "        m[x[i]] = i\n",
    "    else:\n",
    "        x.append(0)\n",
    "        m[x[i]] = i\n",
    "        \n",
    "print(x[29999999])"
   ]
  },
  {
   "cell_type": "code",
   "execution_count": null,
   "metadata": {},
   "outputs": [],
   "source": []
  }
 ],
 "metadata": {
  "kernelspec": {
   "display_name": "Python 3",
   "language": "python",
   "name": "python3"
  },
  "language_info": {
   "codemirror_mode": {
    "name": "ipython",
    "version": 3
   },
   "file_extension": ".py",
   "mimetype": "text/x-python",
   "name": "python",
   "nbconvert_exporter": "python",
   "pygments_lexer": "ipython3",
   "version": "3.7.4"
  }
 },
 "nbformat": 4,
 "nbformat_minor": 2
}
