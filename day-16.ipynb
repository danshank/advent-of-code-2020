{
 "cells": [
  {
   "cell_type": "code",
   "execution_count": 38,
   "metadata": {},
   "outputs": [
    {
     "name": "stdout",
     "output_type": "stream",
     "text": [
      "25\n",
      "22000\n"
     ]
    }
   ],
   "source": [
    "import re\n",
    "\n",
    "file = open(\"day-16-input\", \"r\")\n",
    "data = file.read().splitlines()\n",
    "\n",
    "class ValidRange:\n",
    "    def __init__(self, start, end):\n",
    "        self.start = start\n",
    "        self.end = end\n",
    "    \n",
    "    def isValid(self, x):\n",
    "        return x >= self.start and x <= self.end\n",
    "\n",
    "validRanges = []\n",
    "j = 0\n",
    "for i in range(0, len(data)):\n",
    "    line = data[i]\n",
    "    if line == \"\":\n",
    "        j = i + 5\n",
    "        break\n",
    "    matches = re.match(\"([\\w|\\s]+): (\\d+)-(\\d+) or (\\d+)-(\\d+)\", line)\n",
    "#    print(f\"Type: {matches.group(1)}, Start1: {matches.group(2)}, End1: {matches.group(3)}, Start2: {matches.group(4)}, End2: {matches.group(5)}\")\n",
    "    validRanges.append(ValidRange(int(matches.group(2)), int(matches.group(3))))\n",
    "    validRanges.append(ValidRange(int(matches.group(4)), int(matches.group(5))))\n",
    "    \n",
    "    \n",
    "print(j)\n",
    "#for vr in validRanges:\n",
    "#    print(f\"Start: {vr.start} End: {vr.end}\")\n",
    "#print(\"Done!\")\n",
    "\n",
    "errorRate = 0\n",
    "\n",
    "for i in range(j, len(data)):\n",
    "    x = data[i].split(',')\n",
    "    for y in x:\n",
    "        z = int(y)\n",
    "        isValid = False\n",
    "        for vr in validRanges:\n",
    "            if vr.isValid(z):\n",
    "                isValid = True\n",
    "                break\n",
    "        if not isValid:\n",
    "            errorRate = errorRate + z\n",
    "\n",
    "print(errorRate)\n",
    "        \n"
   ]
  },
  {
   "cell_type": "code",
   "execution_count": 40,
   "metadata": {},
   "outputs": [
    {
     "name": "stdout",
     "output_type": "stream",
     "text": [
      "410460648673\n"
     ]
    }
   ],
   "source": [
    "import re\n",
    "\n",
    "file = open(\"day-16-input\", \"r\")\n",
    "data = file.read().splitlines()\n",
    "\n",
    "class ValidRange:\n",
    "    def __init__(self, start1, end1, start2, end2):\n",
    "        self.start1 = start1\n",
    "        self.end1 = end1\n",
    "        self.start2 = start2\n",
    "        self.end2 = end2\n",
    "    \n",
    "    def isValid(self, x):\n",
    "        return (x >= self.start1 and x <= self.end1) or (x >= self.start2 and x <= self.end2)\n",
    "\n",
    "validRanges = []\n",
    "j = 0\n",
    "for i in range(0, len(data)):\n",
    "    line = data[i]\n",
    "    if line == \"\":\n",
    "        j = i + 5\n",
    "        break\n",
    "    matches = re.match(\"([\\w|\\s]+): (\\d+)-(\\d+) or (\\d+)-(\\d+)\", line)\n",
    "    validRanges.append(ValidRange(int(matches.group(2)), int(matches.group(3)), int(matches.group(4)), int(matches.group(5))))\n",
    "    \n",
    "invalidTickets = set()\n",
    "for i in range(j, len(data)):\n",
    "    x = data[i].split(',')\n",
    "    for y in x:\n",
    "        z = int(y)\n",
    "        isValid = False\n",
    "        for vr in validRanges:\n",
    "            if vr.isValid(z):\n",
    "                isValid = True\n",
    "                break\n",
    "        if not isValid:\n",
    "            invalidTickets.add(i)\n",
    "            break\n",
    "\n",
    "validTickets = set(range(j, len(data)))\n",
    "validTickets = validTickets.difference(invalidTickets)\n",
    "\n",
    "indexToField = {}\n",
    "\n",
    "for ticket in validTickets:\n",
    "    x = data[ticket].split(',')\n",
    "    if len(indexToField) == 0:\n",
    "        for i in range(0, len(x)):\n",
    "            ticketValue = int(x[i])\n",
    "            vrIndices = set()\n",
    "            for k in range(0, len(validRanges)):\n",
    "                vr = validRanges[k]\n",
    "                if vr.isValid(ticketValue):\n",
    "                    vrIndices.add(k)\n",
    "            indexToField[i] = vrIndices\n",
    "    else:\n",
    "        for i in range(0, len(x)):\n",
    "            ticketValue = int(x[i])\n",
    "            validRangesToCheck = indexToField[i]\n",
    "            vriToDiscard = set()\n",
    "            for vri in validRangesToCheck:\n",
    "                if not validRanges[vri].isValid(ticketValue):\n",
    "                    vriToDiscard.add(vri)\n",
    "            indexToField[i] = indexToField[i].difference(vriToDiscard)\n",
    "                    \n",
    "finalIndexToField = {}\n",
    "n = len(indexToField)\n",
    "            \n",
    "while len(finalIndexToField) < n:\n",
    "    indicesToDelete = set()\n",
    "    for i in indexToField:\n",
    "        #print(indexToField[i])\n",
    "        if len(indexToField[i]) == 1:\n",
    "            finalIndexToField[i] = indexToField[i].pop()\n",
    "            indicesToDelete.add(i)\n",
    "    for i in indicesToDelete:\n",
    "        del indexToField[i]\n",
    "        for j in indexToField:\n",
    "            indexToField[j].discard(finalIndexToField[i])\n",
    "                \n",
    "                \n",
    "    #print(finalIndexToField)\n",
    "    \n",
    "t = data[22].split(',')\n",
    "finalAnswer = 1\n",
    "\n",
    "for i in finalIndexToField:\n",
    "    if finalIndexToField[i] < 6:\n",
    "        finalAnswer = finalAnswer * int(t[i])\n",
    "\n",
    "print(finalAnswer)\n"
   ]
  },
  {
   "cell_type": "code",
   "execution_count": 39,
   "metadata": {},
   "outputs": [
    {
     "name": "stdout",
     "output_type": "stream",
     "text": [
      "151,139,53,71,191,107,61,109,157,131,67,73,59,79,113,167,137,163,149,127\n"
     ]
    }
   ],
   "source": [
    "file = open(\"day-16-input\", \"r\")\n",
    "data = file.read().splitlines()\n",
    "\n",
    "t = data[22]\n",
    "print(data[22])"
   ]
  },
  {
   "cell_type": "code",
   "execution_count": null,
   "metadata": {},
   "outputs": [],
   "source": []
  }
 ],
 "metadata": {
  "kernelspec": {
   "display_name": "Python 3",
   "language": "python",
   "name": "python3"
  },
  "language_info": {
   "codemirror_mode": {
    "name": "ipython",
    "version": 3
   },
   "file_extension": ".py",
   "mimetype": "text/x-python",
   "name": "python",
   "nbconvert_exporter": "python",
   "pygments_lexer": "ipython3",
   "version": "3.7.4"
  }
 },
 "nbformat": 4,
 "nbformat_minor": 2
}
