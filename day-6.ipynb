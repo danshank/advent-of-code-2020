{
 "cells": [
  {
   "cell_type": "code",
   "execution_count": 14,
   "metadata": {},
   "outputs": [
    {
     "name": "stdout",
     "output_type": "stream",
     "text": [
      "6703\n"
     ]
    }
   ],
   "source": [
    "file = open(\"day-6-input\", \"r\")\n",
    "lines = file.read().splitlines()\n",
    "\n",
    "answers = set()\n",
    "count = 0\n",
    "\n",
    "for line in lines:\n",
    "#    print(line)\n",
    "    if line == \"\":\n",
    "        count = count + len(answers)\n",
    "#        print(len(answers))\n",
    "        answers = set()\n",
    "    else:\n",
    "        for char in line:\n",
    "            answers.add(char)\n",
    "\n",
    "count = count + len(answers)\n",
    "print(count)"
   ]
  },
  {
   "cell_type": "code",
   "execution_count": 27,
   "metadata": {},
   "outputs": [
    {
     "name": "stdout",
     "output_type": "stream",
     "text": [
      "3430\n"
     ]
    }
   ],
   "source": [
    "file = open(\"day-6-input\", \"r\")\n",
    "lines = file.read().splitlines()\n",
    "\n",
    "answers = set()\n",
    "x = set()\n",
    "count = 0\n",
    "group = []\n",
    "groups = []\n",
    "\n",
    "for line in lines:\n",
    "    if line == \"\":\n",
    "        groups.append(group)\n",
    "        group = []\n",
    "    else:\n",
    "        for char in line:\n",
    "            x.add(char)\n",
    "        group.append(x)\n",
    "        x = set()\n",
    "\n",
    "groups.append(group)\n",
    "\n",
    "        \n",
    "for g in groups:\n",
    "    a = g[0]\n",
    "    for i in range(1, len(g)):\n",
    "        a = a.intersection(g[i])\n",
    "    count = count + len(a)\n",
    "    #print(a)\n",
    "\n",
    "print(count)"
   ]
  },
  {
   "cell_type": "code",
   "execution_count": null,
   "metadata": {},
   "outputs": [],
   "source": []
  }
 ],
 "metadata": {
  "kernelspec": {
   "display_name": "Python 3",
   "language": "python",
   "name": "python3"
  },
  "language_info": {
   "codemirror_mode": {
    "name": "ipython",
    "version": 3
   },
   "file_extension": ".py",
   "mimetype": "text/x-python",
   "name": "python",
   "nbconvert_exporter": "python",
   "pygments_lexer": "ipython3",
   "version": "3.7.4"
  }
 },
 "nbformat": 4,
 "nbformat_minor": 2
}
