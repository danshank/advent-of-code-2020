{
 "cells": [
  {
   "cell_type": "code",
   "execution_count": 15,
   "metadata": {},
   "outputs": [
    {
     "name": "stdout",
     "output_type": "stream",
     "text": [
      "293\n"
     ]
    }
   ],
   "source": [
    "file = open(\"day-17-input\", \"r\")\n",
    "data = file.read().splitlines()\n",
    "\n",
    "def trackActivatingCells(cell, trackedCells):\n",
    "    for i in range(-1, 2):\n",
    "        for j in range(-1, 2):\n",
    "            for k in range(-1, 2):\n",
    "                affectedCell = (cell[0] + i, cell[1] + j, cell[2] + k)\n",
    "                if i == 0 and j == 0 and k == 0:\n",
    "                    pass\n",
    "                elif affectedCell in trackedCells:\n",
    "                    trackedCells[affectedCell] += 1\n",
    "                else:\n",
    "                    trackedCells[affectedCell] = 1\n",
    "                    \n",
    "\n",
    "def determineStateOfNextCycle(state):\n",
    "    affectedCells = {}\n",
    "    nextState = set()\n",
    "    for cell in state:\n",
    "        trackActivatingCells(cell, affectedCells)\n",
    "        \n",
    "    for cell in affectedCells:\n",
    "        if affectedCells[cell] == 3:\n",
    "            nextState.add(cell)\n",
    "        elif affectedCells[cell] == 2 and cell in state:\n",
    "            nextState.add(cell)\n",
    "    return nextState\n",
    "\n",
    "activeCells = set()\n",
    "                    \n",
    "for i in range(0, len(data)):\n",
    "    for j in range(0, len(data[i])):\n",
    "        if data[i][j] == '#':\n",
    "            activeCells.add((i, j, 0))\n",
    "\n",
    "for i in range(0, 6):\n",
    "    activeCells = determineStateOfNextCycle(activeCells)\n",
    "    \n",
    "print(len(activeCells))"
   ]
  },
  {
   "cell_type": "code",
   "execution_count": 16,
   "metadata": {},
   "outputs": [
    {
     "name": "stdout",
     "output_type": "stream",
     "text": [
      "1816\n"
     ]
    }
   ],
   "source": [
    "file = open(\"day-17-input\", \"r\")\n",
    "data = file.read().splitlines()\n",
    "\n",
    "def trackActivatingCells(cell, trackedCells):\n",
    "    for i in range(-1, 2):\n",
    "        for j in range(-1, 2):\n",
    "            for k in range(-1, 2):\n",
    "                for l in range(-1, 2):\n",
    "                    affectedCell = (cell[0] + i, cell[1] + j, cell[2] + k, cell[3] + l)\n",
    "                    if i == 0 and j == 0 and k == 0 and l == 0:\n",
    "                        pass\n",
    "                    elif affectedCell in trackedCells:\n",
    "                        trackedCells[affectedCell] += 1\n",
    "                    else:\n",
    "                        trackedCells[affectedCell] = 1\n",
    "                    \n",
    "\n",
    "def determineStateOfNextCycle(state):\n",
    "    affectedCells = {}\n",
    "    nextState = set()\n",
    "    for cell in state:\n",
    "        trackActivatingCells(cell, affectedCells)\n",
    "        \n",
    "    for cell in affectedCells:\n",
    "        if affectedCells[cell] == 3:\n",
    "            nextState.add(cell)\n",
    "        elif affectedCells[cell] == 2 and cell in state:\n",
    "            nextState.add(cell)\n",
    "    return nextState\n",
    "\n",
    "activeCells = set()\n",
    "                    \n",
    "for i in range(0, len(data)):\n",
    "    for j in range(0, len(data[i])):\n",
    "        if data[i][j] == '#':\n",
    "            activeCells.add((i, j, 0, 0))\n",
    "\n",
    "for i in range(0, 6):\n",
    "    activeCells = determineStateOfNextCycle(activeCells)\n",
    "    \n",
    "print(len(activeCells))"
   ]
  },
  {
   "cell_type": "code",
   "execution_count": null,
   "metadata": {},
   "outputs": [],
   "source": []
  }
 ],
 "metadata": {
  "kernelspec": {
   "display_name": "Python 3",
   "language": "python",
   "name": "python3"
  },
  "language_info": {
   "codemirror_mode": {
    "name": "ipython",
    "version": 3
   },
   "file_extension": ".py",
   "mimetype": "text/x-python",
   "name": "python",
   "nbconvert_exporter": "python",
   "pygments_lexer": "ipython3",
   "version": "3.7.4"
  }
 },
 "nbformat": 4,
 "nbformat_minor": 2
}
