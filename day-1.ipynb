{
 "cells": [
  {
   "cell_type": "code",
   "execution_count": 10,
   "metadata": {},
   "outputs": [
    {
     "name": "stdout",
     "output_type": "stream",
     "text": [
      "842016\n"
     ]
    }
   ],
   "source": [
    "entries = set()\n",
    "inverses = set()\n",
    "file = open(\"day-1-input\", \"r\")\n",
    "for line in file:\n",
    "    x = int(line)\n",
    "    if x in inverses:\n",
    "        print(x * (2020 - x))\n",
    "        break\n",
    "    else:\n",
    "        entries.add(x)\n",
    "        inverses.add(2020 - x)\n",
    "    \n",
    "file.close()"
   ]
  },
  {
   "cell_type": "code",
   "execution_count": 17,
   "metadata": {},
   "outputs": [
    {
     "name": "stdout",
     "output_type": "stream",
     "text": [
      "9199664\n"
     ]
    }
   ],
   "source": [
    "entries = set()\n",
    "inverses = set()\n",
    "i = 0\n",
    "done = False\n",
    "file = open(\"day-1-input\", \"r\")\n",
    "for line in file:\n",
    "    x = int(line)\n",
    "    for y in entries:\n",
    "        if x + y in inverses:\n",
    "            print(x * y * (2020 - x - y))\n",
    "            done = True\n",
    "            break\n",
    "    if done:\n",
    "        break\n",
    "    entries.add(x)\n",
    "    inverses.add(2020 - x)            \n",
    "file.close()"
   ]
  }
 ],
 "metadata": {
  "kernelspec": {
   "display_name": "Python 3",
   "language": "python",
   "name": "python3"
  },
  "language_info": {
   "codemirror_mode": {
    "name": "ipython",
    "version": 3
   },
   "file_extension": ".py",
   "mimetype": "text/x-python",
   "name": "python",
   "nbconvert_exporter": "python",
   "pygments_lexer": "ipython3",
   "version": "3.7.4"
  }
 },
 "nbformat": 4,
 "nbformat_minor": 2
}
