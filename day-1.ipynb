{
 "cells": [
  {
   "cell_type": "code",
   "execution_count": 10,
   "metadata": {},
   "outputs": [
    {
     "name": "stdout",
     "output_type": "stream",
     "text": [
      "842016\n"
     ]
    }
   ],
   "source": [
    "entries = set()\n",
    "inverses = set()\n",
    "file = open(\"day-1-input\", \"r\")\n",
    "for line in file:\n",
    "    x = int(line)\n",
    "    if x in inverses:\n",
    "        print(x * (2020 - x))\n",
    "        break\n",
    "    else:\n",
    "        entries.add(x)\n",
    "        inverses.add(2020 - x)\n",
    "    \n",
    "file.close()"
   ]
  },
  {
   "cell_type": "code",
   "execution_count": 17,
   "metadata": {},
   "outputs": [
    {
     "name": "stdout",
     "output_type": "stream",
     "text": [
      "9199664\n"
     ]
    }
   ],
   "source": [
    "entries = set()\n",
    "inverses = set()\n",
    "i = 0\n",
    "done = False\n",
    "file = open(\"day-1-input\", \"r\")\n",
    "for line in file:\n",
    "    x = int(line)\n",
    "    for y in entries:\n",
    "        if x + y in inverses:\n",
    "            print(x * y * (2020 - x - y))\n",
    "            done = True\n",
    "            break\n",
    "    if done:\n",
    "        break\n",
    "    entries.add(x)\n",
    "    inverses.add(2020 - x)            \n",
    "file.close()"
   ]
  },
  {
   "cell_type": "code",
   "execution_count": 16,
   "metadata": {},
   "outputs": [
    {
     "name": "stdout",
     "output_type": "stream",
     "text": [
      "0 0\n",
      "0 1\n",
      "0 2\n",
      "1 0\n",
      "1 1\n",
      "1 2\n",
      "2 0\n",
      "2 1\n",
      "2 2\n",
      "3 0\n",
      "3 1\n",
      "3 2\n",
      "4 0\n",
      "4 1\n",
      "4 2\n",
      "5 0\n",
      "5 1\n",
      "5 2\n",
      "6 0\n",
      "6 1\n",
      "6 2\n",
      "7 0\n",
      "7 1\n",
      "7 2\n",
      "8 0\n",
      "8 1\n",
      "8 2\n",
      "9 0\n",
      "9 1\n",
      "9 2\n"
     ]
    }
   ],
   "source": []
  },
  {
   "cell_type": "code",
   "execution_count": null,
   "metadata": {},
   "outputs": [],
   "source": []
  }
 ],
 "metadata": {
  "kernelspec": {
   "display_name": "Python 3",
   "language": "python",
   "name": "python3"
  },
  "language_info": {
   "codemirror_mode": {
    "name": "ipython",
    "version": 3
   },
   "file_extension": ".py",
   "mimetype": "text/x-python",
   "name": "python",
   "nbconvert_exporter": "python",
   "pygments_lexer": "ipython3",
   "version": "3.7.4"
  }
 },
 "nbformat": 4,
 "nbformat_minor": 2
}
